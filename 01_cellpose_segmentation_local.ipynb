{
 "cells": [
  {
   "cell_type": "markdown",
   "metadata": {},
   "source": [
    "## About this notebook"
   ]
  },
  {
   "cell_type": "markdown",
   "metadata": {},
   "source": [
    "This notebook segments files selected for calculating alignment in each round.\n",
    "\n",
    "Input:\n",
    "- pathway to a directory containing selected files for the segmentation (im_to_segment)\n",
    "- list of wells to process\n",
    "\n",
    "Output:\n",
    "- segmented masks of selected channels"
   ]
  },
  {
   "cell_type": "markdown",
   "metadata": {},
   "source": [
    "## Fill in info about the experiment to process"
   ]
  },
  {
   "cell_type": "code",
   "execution_count": 1,
   "metadata": {
    "colab": {
     "base_uri": "https://localhost:8080/"
    },
    "executionInfo": {
     "elapsed": 673,
     "status": "ok",
     "timestamp": 1632407726537,
     "user": {
      "displayName": "Kasia Kedziora",
      "photoUrl": "https://lh3.googleusercontent.com/a-/AOh14GgrQL0MsvECWuGnchGIHhSl1W_pja8hBNRpVtVXRQ=s64",
      "userId": "07632994697540200154"
     },
     "user_tz": 240
    },
    "id": "v2JigGQ5jZ2t",
    "outputId": "9240a63a-06b6-4198-ced4-4aa1690f0db2"
   },
   "outputs": [],
   "source": [
    "# define a pathway to a directory that contains images for segmentation (im_to_segment)\n",
    "path_data = r'Z:\\Garrett\\4i_data\\080423_Antibody_Confirm_Test\\C6\\output_images'\n",
    "\n",
    "# list of wells to be processed (usually names as 'A3')\n",
    "well_list = ['B06', 'C06', 'D06', 'E06', 'F06']\n",
    "\n",
    "# pathway to a directory to save segmented images\n",
    "path_save = r'Z:\\Garrett\\4i_data\\080423_Antibody_Confirm_Test\\C6\\segmented'\n",
    "\n",
    "# expected diameter of objects for segmentation in pixels (default 30)\n",
    "selected_diameter = 30"
   ]
  },
  {
   "cell_type": "markdown",
   "metadata": {},
   "source": [
    "## Prepare for segmentation"
   ]
  },
  {
   "cell_type": "code",
   "execution_count": 2,
   "metadata": {
    "colab": {
     "base_uri": "https://localhost:8080/"
    },
    "executionInfo": {
     "elapsed": 90927,
     "status": "ok",
     "timestamp": 1632407640398,
     "user": {
      "displayName": "Kasia Kedziora",
      "photoUrl": "https://lh3.googleusercontent.com/a-/AOh14GgrQL0MsvECWuGnchGIHhSl1W_pja8hBNRpVtVXRQ=s64",
      "userId": "07632994697540200154"
     },
     "user_tz": 240
    },
    "id": "dElQxtT7kRmy",
    "outputId": "50e47847-212c-4357-e5fc-5ea311980843",
    "scrolled": true
   },
   "outputs": [],
   "source": [
    "import os\n",
    "from tifffile import imread\n",
    "import pickle\n",
    "from skimage.io import imsave\n",
    "import tensorflow as tf\n",
    "import cellpose\n",
    "from cellpose import models\n",
    "from cellpose import utils"
   ]
  },
  {
   "cell_type": "code",
   "execution_count": 3,
   "metadata": {},
   "outputs": [],
   "source": [
    "os.environ['CUDA_VISIBLE_DEVICES'] = '0'"
   ]
  },
  {
   "cell_type": "code",
   "execution_count": 4,
   "metadata": {
    "scrolled": true
   },
   "outputs": [
    {
     "data": {
      "text/plain": [
       "True"
      ]
     },
     "execution_count": 4,
     "metadata": {},
     "output_type": "execute_result"
    }
   ],
   "source": [
    "#Is cellpose using the GPU, reports True or False\n",
    "cellpose.core.use_gpu(gpu_number=0, use_torch=True)"
   ]
  },
  {
   "cell_type": "code",
   "execution_count": 5,
   "metadata": {
    "scrolled": false
   },
   "outputs": [
    {
     "name": "stdout",
     "output_type": "stream",
     "text": [
      "nvcc: NVIDIA (R) Cuda compiler driver\n",
      "Copyright (c) 2005-2022 NVIDIA Corporation\n",
      "Built on Tue_Mar__8_18:36:24_Pacific_Standard_Time_2022\n",
      "Cuda compilation tools, release 11.6, V11.6.124\n",
      "Build cuda_11.6.r11.6/compiler.31057947_0\n",
      "Wed Jan 10 12:03:45 2024       \n",
      "+---------------------------------------------------------------------------------------+\n",
      "| NVIDIA-SMI 537.79                 Driver Version: 537.79       CUDA Version: 12.2     |\n",
      "|-----------------------------------------+----------------------+----------------------+\n",
      "| GPU  Name                     TCC/WDDM  | Bus-Id        Disp.A | Volatile Uncorr. ECC |\n",
      "| Fan  Temp   Perf          Pwr:Usage/Cap |         Memory-Usage | GPU-Util  Compute M. |\n",
      "|                                         |                      |               MIG M. |\n",
      "|=========================================+======================+======================|\n",
      "|   0  Quadro P620                  WDDM  | 00000000:01:00.0 Off |                  N/A |\n",
      "| N/A   50C    P0              N/A / ERR! |     40MiB /  4096MiB |      0%      Default |\n",
      "|                                         |                      |                  N/A |\n",
      "+-----------------------------------------+----------------------+----------------------+\n",
      "                                                                                         \n",
      "+---------------------------------------------------------------------------------------+\n",
      "| Processes:                                                                            |\n",
      "|  GPU   GI   CI        PID   Type   Process name                            GPU Memory |\n",
      "|        ID   ID                                                             Usage      |\n",
      "|=======================================================================================|\n",
      "|    0   N/A  N/A      9912      C   ...onda\\envs\\GPU_Segment_4i\\python.exe    N/A      |\n",
      "+---------------------------------------------------------------------------------------+\n"
     ]
    }
   ],
   "source": [
    "!nvcc --version\n",
    "!nvidia-smi"
   ]
  },
  {
   "cell_type": "code",
   "execution_count": 6,
   "metadata": {
    "colab": {
     "base_uri": "https://localhost:8080/"
    },
    "executionInfo": {
     "elapsed": 251,
     "status": "ok",
     "timestamp": 1632407817938,
     "user": {
      "displayName": "Kasia Kedziora",
      "photoUrl": "https://lh3.googleusercontent.com/a-/AOh14GgrQL0MsvECWuGnchGIHhSl1W_pja8hBNRpVtVXRQ=s64",
      "userId": "07632994697540200154"
     },
     "user_tz": 240
    },
    "id": "1hLE2oydpUwk",
    "outputId": "63900649-c83b-443d-d5d2-4e8aa3cebb64"
   },
   "outputs": [
    {
     "name": "stdout",
     "output_type": "stream",
     "text": [
      "Directory for saving created.\n"
     ]
    }
   ],
   "source": [
    "try:\n",
    "    #os.mkdir(save_dir)\n",
    "    os.mkdir(path_save)\n",
    "    print('Directory for saving created.')\n",
    "except:\n",
    "    print('Directory not created.')"
   ]
  },
  {
   "cell_type": "code",
   "execution_count": 7,
   "metadata": {
    "colab": {
     "base_uri": "https://localhost:8080/"
    },
    "executionInfo": {
     "elapsed": 8945,
     "status": "ok",
     "timestamp": 1632407738389,
     "user": {
      "displayName": "Kasia Kedziora",
      "photoUrl": "https://lh3.googleusercontent.com/a-/AOh14GgrQL0MsvECWuGnchGIHhSl1W_pja8hBNRpVtVXRQ=s64",
      "userId": "07632994697540200154"
     },
     "user_tz": 240
    },
    "id": "kBhvHNRUljgD",
    "outputId": "1d9e0419-70b4-4bdd-b3a0-44a9076a37e9",
    "scrolled": true
   },
   "outputs": [],
   "source": [
    "# load cellpose model\n",
    "model = models.Cellpose(gpu=True, model_type='cyto')\n",
    "#model = models.Cellpose(gpu=False, model_type='cyto')"
   ]
  },
  {
   "cell_type": "markdown",
   "metadata": {},
   "source": [
    "## Process selected wells"
   ]
  },
  {
   "cell_type": "code",
   "execution_count": 8,
   "metadata": {
    "colab": {
     "base_uri": "https://localhost:8080/",
     "height": 0
    },
    "executionInfo": {
     "elapsed": 5119622,
     "status": "error",
     "timestamp": 1632412941120,
     "user": {
      "displayName": "Kasia Kedziora",
      "photoUrl": "https://lh3.googleusercontent.com/a-/AOh14GgrQL0MsvECWuGnchGIHhSl1W_pja8hBNRpVtVXRQ=s64",
      "userId": "07632994697540200154"
     },
     "user_tz": 240
    },
    "id": "SOG4BDuKpIO0",
    "outputId": "5aabfcb5-b94c-45f7-b969-05b228d1743c",
    "scrolled": true
   },
   "outputs": [
    {
     "name": "stdout",
     "output_type": "stream",
     "text": [
      "Directory for saving B06 labels created.\n",
      "Directory for saving C06 labels created.\n"
     ]
    },
    {
     "name": "stderr",
     "output_type": "stream",
     "text": [
      "C:\\Users\\gases\\.conda\\envs\\GPU_Segment_4i\\lib\\site-packages\\ipykernel_launcher.py:26: UserWarning: Z:\\Garrett\\4i_data\\080423_Antibody_Confirm_Test\\C6\\segmented\\C06\\labels_C06_round_000.tif is a low contrast image\n",
      "C:\\Users\\gases\\.conda\\envs\\GPU_Segment_4i\\lib\\site-packages\\ipykernel_launcher.py:26: UserWarning: Z:\\Garrett\\4i_data\\080423_Antibody_Confirm_Test\\C6\\segmented\\C06\\labels_C06_round_001.tif is a low contrast image\n",
      "C:\\Users\\gases\\.conda\\envs\\GPU_Segment_4i\\lib\\site-packages\\ipykernel_launcher.py:26: UserWarning: Z:\\Garrett\\4i_data\\080423_Antibody_Confirm_Test\\C6\\segmented\\C06\\labels_C06_round_002.tif is a low contrast image\n",
      "C:\\Users\\gases\\.conda\\envs\\GPU_Segment_4i\\lib\\site-packages\\ipykernel_launcher.py:26: UserWarning: Z:\\Garrett\\4i_data\\080423_Antibody_Confirm_Test\\C6\\segmented\\C06\\labels_C06_round_003.tif is a low contrast image\n",
      "C:\\Users\\gases\\.conda\\envs\\GPU_Segment_4i\\lib\\site-packages\\ipykernel_launcher.py:26: UserWarning: Z:\\Garrett\\4i_data\\080423_Antibody_Confirm_Test\\C6\\segmented\\C06\\labels_C06_round_004.tif is a low contrast image\n",
      "C:\\Users\\gases\\.conda\\envs\\GPU_Segment_4i\\lib\\site-packages\\ipykernel_launcher.py:26: UserWarning: Z:\\Garrett\\4i_data\\080423_Antibody_Confirm_Test\\C6\\segmented\\C06\\labels_C06_round_005.tif is a low contrast image\n",
      "C:\\Users\\gases\\.conda\\envs\\GPU_Segment_4i\\lib\\site-packages\\ipykernel_launcher.py:26: UserWarning: Z:\\Garrett\\4i_data\\080423_Antibody_Confirm_Test\\C6\\segmented\\C06\\labels_C06_round_006.tif is a low contrast image\n"
     ]
    },
    {
     "name": "stdout",
     "output_type": "stream",
     "text": [
      "Directory for saving D06 labels created.\n",
      "Directory for saving E06 labels created.\n",
      "Directory for saving F06 labels created.\n"
     ]
    },
    {
     "name": "stderr",
     "output_type": "stream",
     "text": [
      "C:\\Users\\gases\\.conda\\envs\\GPU_Segment_4i\\lib\\site-packages\\ipykernel_launcher.py:26: UserWarning: Z:\\Garrett\\4i_data\\080423_Antibody_Confirm_Test\\C6\\segmented\\F06\\labels_F06_round_000.tif is a low contrast image\n",
      "C:\\Users\\gases\\.conda\\envs\\GPU_Segment_4i\\lib\\site-packages\\ipykernel_launcher.py:26: UserWarning: Z:\\Garrett\\4i_data\\080423_Antibody_Confirm_Test\\C6\\segmented\\F06\\labels_F06_round_001.tif is a low contrast image\n",
      "C:\\Users\\gases\\.conda\\envs\\GPU_Segment_4i\\lib\\site-packages\\ipykernel_launcher.py:26: UserWarning: Z:\\Garrett\\4i_data\\080423_Antibody_Confirm_Test\\C6\\segmented\\F06\\labels_F06_round_002.tif is a low contrast image\n",
      "C:\\Users\\gases\\.conda\\envs\\GPU_Segment_4i\\lib\\site-packages\\ipykernel_launcher.py:26: UserWarning: Z:\\Garrett\\4i_data\\080423_Antibody_Confirm_Test\\C6\\segmented\\F06\\labels_F06_round_003.tif is a low contrast image\n",
      "C:\\Users\\gases\\.conda\\envs\\GPU_Segment_4i\\lib\\site-packages\\ipykernel_launcher.py:26: UserWarning: Z:\\Garrett\\4i_data\\080423_Antibody_Confirm_Test\\C6\\segmented\\F06\\labels_F06_round_004.tif is a low contrast image\n",
      "C:\\Users\\gases\\.conda\\envs\\GPU_Segment_4i\\lib\\site-packages\\ipykernel_launcher.py:26: UserWarning: Z:\\Garrett\\4i_data\\080423_Antibody_Confirm_Test\\C6\\segmented\\F06\\labels_F06_round_005.tif is a low contrast image\n",
      "C:\\Users\\gases\\.conda\\envs\\GPU_Segment_4i\\lib\\site-packages\\ipykernel_launcher.py:26: UserWarning: Z:\\Garrett\\4i_data\\080423_Antibody_Confirm_Test\\C6\\segmented\\F06\\labels_F06_round_006.tif is a low contrast image\n"
     ]
    }
   ],
   "source": [
    "# loop for segmentation \n",
    "\n",
    "for myWell in well_list:\n",
    "    \n",
    "    file_list = os.listdir(os.path.join(path_data,myWell))\n",
    "    \n",
    "    try:\n",
    "        os.mkdir(os.path.join(path_save,myWell))\n",
    "        print(f'Directory for saving {myWell} labels created.')\n",
    "    except:\n",
    "        pass\n",
    "\n",
    "    for file_name in file_list: \n",
    "\n",
    "        # specify pathway to the image\n",
    "        im_path = os.path.join(path_data,myWell,file_name)\n",
    "\n",
    "        # get an image\n",
    "        im = imread(im_path)\n",
    "\n",
    "        # segment the right plane\n",
    "        labels, _, _, _ = model.eval(im, diameter=selected_diameter, channels=[0,0])\n",
    "\n",
    "        # save segmentation\n",
    "        path_save_temp = os.path.join(path_save,myWell,file_name.replace('im2segment','labels'))\n",
    "        imsave(path_save_temp,labels)         "
   ]
  },
  {
   "cell_type": "code",
   "execution_count": null,
   "metadata": {},
   "outputs": [],
   "source": []
  }
 ],
 "metadata": {
  "accelerator": "GPU",
  "colab": {
   "authorship_tag": "ABX9TyNGhYUAObWehP4wfnZZStWw",
   "name": "cellpose_movie_segmentation_nd2.ipynb",
   "provenance": []
  },
  "kernelspec": {
   "display_name": "Python 3 (ipykernel)",
   "language": "python",
   "name": "python3"
  },
  "language_info": {
   "codemirror_mode": {
    "name": "ipython",
    "version": 3
   },
   "file_extension": ".py",
   "mimetype": "text/x-python",
   "name": "python",
   "nbconvert_exporter": "python",
   "pygments_lexer": "ipython3",
   "version": "3.7.16"
  }
 },
 "nbformat": 4,
 "nbformat_minor": 1
}
