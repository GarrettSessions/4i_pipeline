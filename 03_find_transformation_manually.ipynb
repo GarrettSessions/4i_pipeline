{
 "cells": [
  {
   "cell_type": "markdown",
   "metadata": {},
   "source": [
    "## About this notebook:"
   ]
  },
  {
   "cell_type": "markdown",
   "metadata": {},
   "source": [
    "This notebook uses Affinder napari plugin to find transformation manually.\n",
    "\n",
    "Input:\n",
    "- pathway to a directory containing segmented labels\n",
    "- pathway to a directory containing data frames\n",
    "- pathway to a directory containing transformations (pkl files)\n",
    "- well and round (as in the names of directories) selected for corrections\n",
    "\n",
    "Output:\n",
    "- a set of transforms for the selected well with the corrected transform for a given round\n",
    "\n",
    "Optionally you can visualize alignment (visualization uses Napari)."
   ]
  },
  {
   "cell_type": "markdown",
   "metadata": {},
   "source": [
    "## Fill in info about the experiment to process"
   ]
  },
  {
   "cell_type": "code",
   "execution_count": 7,
   "metadata": {},
   "outputs": [],
   "source": [
    "# details about the experiment\n",
    "\n",
    "# pathway to a directory with segmented masks for alignment (ex. im_segmented)\n",
    "path_labels = r''\n",
    "\n",
    "# pathway to a directory with data frames (ex. df)\n",
    "path_df = r''\n",
    "\n",
    "# pathway to save transformations (ex. df)\n",
    "path_save = r''\n",
    "\n",
    "# specify which round in which well to correct manually\n",
    "myWell ='D4'\n",
    "myRound = 1 # as named in the directory\n",
    "anchor_round_selected = 2 # as named in the directory, default should be 1"
   ]
  },
  {
   "cell_type": "code",
   "execution_count": 3,
   "metadata": {},
   "outputs": [],
   "source": [
    "# details about the experiment\n",
    "# pathway to a directory with segmented masks for alignment (ex. im_segmented)\n",
    "path_labels = r'C:\\Sam\\4i_Breast_Cancer-Data_YR2023\\T47DWT_ESR1_Tam-Res-Triplicate_Aug2023\\01_Segmented_Images'\n",
    "# pathway to a directory with data frames (ex. df)\n",
    "path_df = r'C:\\Sam\\4i_Breast_Cancer-Data_YR2023\\T47DWT_ESR1_Tam-Res-Triplicate_Aug2023\\00_T47D_DataFrames'\n",
    "# pathway to save transformations (ex. df)\n",
    "path_save = r'C:\\Sam\\4i_Breast_Cancer-Data_YR2023\\T47DWT_ESR1_Tam-Res-Triplicate_Aug2023\\02_Transformations'\n",
    "# specify which round in which well to correct manually\n",
    "myWell ='D03'\n",
    "myRound = 5 # as named in the directory\n",
    "anchor_round_selected = 1 # as named in the directory, default should be 1"
   ]
  },
  {
   "cell_type": "markdown",
   "metadata": {},
   "source": [
    "## Prepare for processing"
   ]
  },
  {
   "cell_type": "code",
   "execution_count": 1,
   "metadata": {},
   "outputs": [],
   "source": [
    "import os\n",
    "import pickle\n",
    "import pandas as pd\n",
    "import numpy as np\n",
    "import napari\n",
    "from tifffile import imsave,imread\n",
    "from scipy import ndimage as ndi\n",
    "from skimage import transform\n",
    "import matplotlib.pyplot as plt"
   ]
  },
  {
   "cell_type": "code",
   "execution_count": 2,
   "metadata": {},
   "outputs": [],
   "source": [
    "def read_labels(path_labels,myWell,alignRound,anchorRound):\n",
    "    \n",
    "    labels_list = [x for x in os.listdir(os.path.join(path_labels,myWell)) if 'tif' in x]\n",
    "    labels_list.sort()\n",
    "\n",
    "    labels_list = [labels_list[int(anchorRound)],labels_list[int(alignRound)]]\n",
    "\n",
    "    labels_im_list = []\n",
    "    for lab_im_name in labels_list:\n",
    "\n",
    "        lab_im = plt.imread(os.path.join(path_labels,myWell,lab_im_name))\n",
    "        labels_im_list.append(lab_im)\n",
    "\n",
    "    labels_im = np.array(labels_im_list)\n",
    "    \n",
    "    return labels_im"
   ]
  },
  {
   "cell_type": "code",
   "execution_count": 4,
   "metadata": {},
   "outputs": [
    {
     "ename": "FileNotFoundError",
     "evalue": "[Errno 2] No such file or directory: 'C:\\\\Sam\\\\4i_Breast_Cancer-Data_YR2023\\\\T47DWT_ESR1_Tam-Res-Triplicate_Aug2023\\\\02_Transformations\\\\df_D03.pkl'",
     "output_type": "error",
     "traceback": [
      "\u001b[1;31m---------------------------------------------------------------------------\u001b[0m",
      "\u001b[1;31mFileNotFoundError\u001b[0m                         Traceback (most recent call last)",
      "Cell \u001b[1;32mIn[4], line 3\u001b[0m\n\u001b[0;32m      1\u001b[0m \u001b[38;5;66;03m# open df\u001b[39;00m\n\u001b[0;32m      2\u001b[0m df_path \u001b[38;5;241m=\u001b[39m os\u001b[38;5;241m.\u001b[39mpath\u001b[38;5;241m.\u001b[39mjoin(path_save,\u001b[38;5;124mf\u001b[39m\u001b[38;5;124m'\u001b[39m\u001b[38;5;124mdf_\u001b[39m\u001b[38;5;132;01m{\u001b[39;00mmyWell\u001b[38;5;132;01m}\u001b[39;00m\u001b[38;5;124m.pkl\u001b[39m\u001b[38;5;124m'\u001b[39m)\n\u001b[1;32m----> 3\u001b[0m df \u001b[38;5;241m=\u001b[39m \u001b[43mpd\u001b[49m\u001b[38;5;241;43m.\u001b[39;49m\u001b[43mread_pickle\u001b[49m\u001b[43m(\u001b[49m\u001b[43mdf_path\u001b[49m\u001b[43m)\u001b[49m\n\u001b[0;32m      5\u001b[0m \u001b[38;5;66;03m# check which alignRound for the selected round\u001b[39;00m\n\u001b[0;32m      6\u001b[0m alignRound \u001b[38;5;241m=\u001b[39m df\u001b[38;5;241m.\u001b[39mloc[df\u001b[38;5;241m.\u001b[39mnameRound \u001b[38;5;241m==\u001b[39m myRound,\u001b[38;5;124m'\u001b[39m\u001b[38;5;124malignRound\u001b[39m\u001b[38;5;124m'\u001b[39m]\u001b[38;5;241m.\u001b[39mtolist()[\u001b[38;5;241m0\u001b[39m]\n",
      "File \u001b[1;32m~\\.conda\\envs\\Masking_4i\\lib\\site-packages\\pandas\\io\\pickle.py:196\u001b[0m, in \u001b[0;36mread_pickle\u001b[1;34m(filepath_or_buffer, compression, storage_options)\u001b[0m\n\u001b[0;32m    129\u001b[0m \u001b[38;5;250m\u001b[39m\u001b[38;5;124;03m\"\"\"\u001b[39;00m\n\u001b[0;32m    130\u001b[0m \u001b[38;5;124;03mLoad pickled pandas object (or any object) from file.\u001b[39;00m\n\u001b[0;32m    131\u001b[0m \n\u001b[1;32m   (...)\u001b[0m\n\u001b[0;32m    193\u001b[0m \u001b[38;5;124;03m>>> os.remove(\"./dummy.pkl\")\u001b[39;00m\n\u001b[0;32m    194\u001b[0m \u001b[38;5;124;03m\"\"\"\u001b[39;00m\n\u001b[0;32m    195\u001b[0m excs_to_catch \u001b[38;5;241m=\u001b[39m (\u001b[38;5;167;01mAttributeError\u001b[39;00m, \u001b[38;5;167;01mImportError\u001b[39;00m, \u001b[38;5;167;01mModuleNotFoundError\u001b[39;00m, \u001b[38;5;167;01mTypeError\u001b[39;00m)\n\u001b[1;32m--> 196\u001b[0m \u001b[38;5;28;01mwith\u001b[39;00m \u001b[43mget_handle\u001b[49m\u001b[43m(\u001b[49m\n\u001b[0;32m    197\u001b[0m \u001b[43m    \u001b[49m\u001b[43mfilepath_or_buffer\u001b[49m\u001b[43m,\u001b[49m\n\u001b[0;32m    198\u001b[0m \u001b[43m    \u001b[49m\u001b[38;5;124;43m\"\u001b[39;49m\u001b[38;5;124;43mrb\u001b[39;49m\u001b[38;5;124;43m\"\u001b[39;49m\u001b[43m,\u001b[49m\n\u001b[0;32m    199\u001b[0m \u001b[43m    \u001b[49m\u001b[43mcompression\u001b[49m\u001b[38;5;241;43m=\u001b[39;49m\u001b[43mcompression\u001b[49m\u001b[43m,\u001b[49m\n\u001b[0;32m    200\u001b[0m \u001b[43m    \u001b[49m\u001b[43mis_text\u001b[49m\u001b[38;5;241;43m=\u001b[39;49m\u001b[38;5;28;43;01mFalse\u001b[39;49;00m\u001b[43m,\u001b[49m\n\u001b[0;32m    201\u001b[0m \u001b[43m    \u001b[49m\u001b[43mstorage_options\u001b[49m\u001b[38;5;241;43m=\u001b[39;49m\u001b[43mstorage_options\u001b[49m\u001b[43m,\u001b[49m\n\u001b[0;32m    202\u001b[0m \u001b[43m\u001b[49m\u001b[43m)\u001b[49m \u001b[38;5;28;01mas\u001b[39;00m handles:\n\u001b[0;32m    203\u001b[0m \n\u001b[0;32m    204\u001b[0m     \u001b[38;5;66;03m# 1) try standard library Pickle\u001b[39;00m\n\u001b[0;32m    205\u001b[0m     \u001b[38;5;66;03m# 2) try pickle_compat (older pandas version) to handle subclass changes\u001b[39;00m\n\u001b[0;32m    206\u001b[0m     \u001b[38;5;66;03m# 3) try pickle_compat with latin-1 encoding upon a UnicodeDecodeError\u001b[39;00m\n\u001b[0;32m    208\u001b[0m     \u001b[38;5;28;01mtry\u001b[39;00m:\n\u001b[0;32m    209\u001b[0m         \u001b[38;5;66;03m# TypeError for Cython complaints about object.__new__ vs Tick.__new__\u001b[39;00m\n\u001b[0;32m    210\u001b[0m         \u001b[38;5;28;01mtry\u001b[39;00m:\n",
      "File \u001b[1;32m~\\.conda\\envs\\Masking_4i\\lib\\site-packages\\pandas\\io\\common.py:711\u001b[0m, in \u001b[0;36mget_handle\u001b[1;34m(path_or_buf, mode, encoding, compression, memory_map, is_text, errors, storage_options)\u001b[0m\n\u001b[0;32m    702\u001b[0m         handle \u001b[38;5;241m=\u001b[39m \u001b[38;5;28mopen\u001b[39m(\n\u001b[0;32m    703\u001b[0m             handle,\n\u001b[0;32m    704\u001b[0m             ioargs\u001b[38;5;241m.\u001b[39mmode,\n\u001b[1;32m   (...)\u001b[0m\n\u001b[0;32m    707\u001b[0m             newline\u001b[38;5;241m=\u001b[39m\u001b[38;5;124m\"\u001b[39m\u001b[38;5;124m\"\u001b[39m,\n\u001b[0;32m    708\u001b[0m         )\n\u001b[0;32m    709\u001b[0m     \u001b[38;5;28;01melse\u001b[39;00m:\n\u001b[0;32m    710\u001b[0m         \u001b[38;5;66;03m# Binary mode\u001b[39;00m\n\u001b[1;32m--> 711\u001b[0m         handle \u001b[38;5;241m=\u001b[39m \u001b[38;5;28;43mopen\u001b[39;49m\u001b[43m(\u001b[49m\u001b[43mhandle\u001b[49m\u001b[43m,\u001b[49m\u001b[43m \u001b[49m\u001b[43mioargs\u001b[49m\u001b[38;5;241;43m.\u001b[39;49m\u001b[43mmode\u001b[49m\u001b[43m)\u001b[49m\n\u001b[0;32m    712\u001b[0m     handles\u001b[38;5;241m.\u001b[39mappend(handle)\n\u001b[0;32m    714\u001b[0m \u001b[38;5;66;03m# Convert BytesIO or file objects passed with an encoding\u001b[39;00m\n",
      "\u001b[1;31mFileNotFoundError\u001b[0m: [Errno 2] No such file or directory: 'C:\\\\Sam\\\\4i_Breast_Cancer-Data_YR2023\\\\T47DWT_ESR1_Tam-Res-Triplicate_Aug2023\\\\02_Transformations\\\\df_D03.pkl'"
     ]
    }
   ],
   "source": [
    "# open df\n",
    "df_path = os.path.join(path_save,f'df_{myWell}.pkl')\n",
    "df = pd.read_pickle(df_path)\n",
    "\n",
    "# check which alignRound for the selected round\n",
    "alignRound = df.loc[df.nameRound == myRound,'alignRound'].tolist()[0]\n",
    "\n",
    "# check which alignRound for the anchor round\n",
    "anchor_round = df.loc[df.nameRound == anchor_round_selected,'alignRound'].tolist()[0]\n",
    "\n",
    "# open labels and the control\n",
    "labels_im = read_labels(path_labels,myWell,alignRound,anchor_round)\n",
    "\n",
    "# open the list of transformations for a given well\n",
    "tmat_path = os.path.join(path_save,f'tmat_{myWell}.pkl')\n",
    "with open(tmat_path,'rb') as tmat_file:\n",
    "    tmat = pickle.load(tmat_file)\n",
    "\n",
    "# select the appropriate transformation\n",
    "t_org = tmat[int(alignRound)]\n"
   ]
  },
  {
   "cell_type": "markdown",
   "metadata": {},
   "source": [
    "## Use Affinder in Napari"
   ]
  },
  {
   "cell_type": "markdown",
   "metadata": {},
   "source": [
    "Remember to set parameters of the plugin correctly:\n",
    "- reference image\n",
    "- image to transform\n",
    "- 'similarity' as transformation\n",
    "\n",
    "Information about Affinder can be found:\n",
    "- https://github.com/jni/affinder\n",
    "- https://www.napari-hub.org/plugins/affinder?imageModality=Fluorescence+microscopy"
   ]
  },
  {
   "cell_type": "code",
   "execution_count": 9,
   "metadata": {},
   "outputs": [
    {
     "name": "stderr",
     "output_type": "stream",
     "text": [
      "C:\\Users\\kmkedz\\.conda\\envs\\napari-tests\\lib\\site-packages\\napari_tools_menu\\__init__.py:165: FutureWarning: Public access to Window.qt_viewer is deprecated and will be removed in\n",
      "v0.5.0. It is considered an \"implementation detail\" of the napari\n",
      "application, not part of the napari viewer model. If your use case\n",
      "requires access to qt_viewer, please open an issue to discuss.\n",
      "  self.tools_menu = ToolsMenu(self, self.qt_viewer.viewer)\n",
      "C:\\Users\\kmkedz\\.conda\\envs\\napari-tests\\lib\\site-packages\\affinder\\affinder.py:28: FutureWarning: Private attribute access ('Viewer._canvas_size') in this context (e.g. inside a plugin widget or dock widget) is deprecated and will be unavailable in version 0.5.0\n",
      "  viewer.camera.zoom = np.min(viewer._canvas_size) / np.max(size)\n",
      "C:\\Users\\kmkedz\\.conda\\envs\\napari-tests\\lib\\site-packages\\numpy\\core\\numeric.py:2446: FutureWarning: elementwise comparison failed; returning scalar instead, but in the future will perform elementwise comparison\n",
      "  return bool(asarray(a1 == a2).all())\n",
      "C:\\Users\\kmkedz\\.conda\\envs\\napari-tests\\lib\\site-packages\\numpy\\core\\numeric.py:2446: FutureWarning: elementwise comparison failed; returning scalar instead, but in the future will perform elementwise comparison\n",
      "  return bool(asarray(a1 == a2).all())\n",
      "C:\\Users\\kmkedz\\.conda\\envs\\napari-tests\\lib\\site-packages\\affinder\\affinder.py:28: FutureWarning: Private attribute access ('Viewer._canvas_size') in this context (e.g. inside a plugin widget or dock widget) is deprecated and will be unavailable in version 0.5.0\n",
      "  viewer.camera.zoom = np.min(viewer._canvas_size) / np.max(size)\n",
      "C:\\Users\\kmkedz\\.conda\\envs\\napari-tests\\lib\\site-packages\\affinder\\affinder.py:28: FutureWarning: Private attribute access ('Viewer._canvas_size') in this context (e.g. inside a plugin widget or dock widget) is deprecated and will be unavailable in version 0.5.0\n",
      "  viewer.camera.zoom = np.min(viewer._canvas_size) / np.max(size)\n",
      "C:\\Users\\kmkedz\\.conda\\envs\\napari-tests\\lib\\site-packages\\affinder\\affinder.py:28: FutureWarning: Private attribute access ('Viewer._canvas_size') in this context (e.g. inside a plugin widget or dock widget) is deprecated and will be unavailable in version 0.5.0\n",
      "  viewer.camera.zoom = np.min(viewer._canvas_size) / np.max(size)\n",
      "C:\\Users\\kmkedz\\.conda\\envs\\napari-tests\\lib\\site-packages\\affinder\\affinder.py:28: FutureWarning: Private attribute access ('Viewer._canvas_size') in this context (e.g. inside a plugin widget or dock widget) is deprecated and will be unavailable in version 0.5.0\n",
      "  viewer.camera.zoom = np.min(viewer._canvas_size) / np.max(size)\n",
      "C:\\Users\\kmkedz\\.conda\\envs\\napari-tests\\lib\\site-packages\\affinder\\affinder.py:28: FutureWarning: Private attribute access ('Viewer._canvas_size') in this context (e.g. inside a plugin widget or dock widget) is deprecated and will be unavailable in version 0.5.0\n",
      "  viewer.camera.zoom = np.min(viewer._canvas_size) / np.max(size)\n",
      "C:\\Users\\kmkedz\\.conda\\envs\\napari-tests\\lib\\site-packages\\affinder\\affinder.py:28: FutureWarning: Private attribute access ('Viewer._canvas_size') in this context (e.g. inside a plugin widget or dock widget) is deprecated and will be unavailable in version 0.5.0\n",
      "  viewer.camera.zoom = np.min(viewer._canvas_size) / np.max(size)\n",
      "C:\\Users\\kmkedz\\.conda\\envs\\napari-tests\\lib\\site-packages\\affinder\\affinder.py:28: FutureWarning: Private attribute access ('Viewer._canvas_size') in this context (e.g. inside a plugin widget or dock widget) is deprecated and will be unavailable in version 0.5.0\n",
      "  viewer.camera.zoom = np.min(viewer._canvas_size) / np.max(size)\n",
      "C:\\Users\\kmkedz\\.conda\\envs\\napari-tests\\lib\\site-packages\\affinder\\affinder.py:28: FutureWarning: Private attribute access ('Viewer._canvas_size') in this context (e.g. inside a plugin widget or dock widget) is deprecated and will be unavailable in version 0.5.0\n",
      "  viewer.camera.zoom = np.min(viewer._canvas_size) / np.max(size)\n",
      "C:\\Users\\kmkedz\\.conda\\envs\\napari-tests\\lib\\site-packages\\affinder\\affinder.py:28: FutureWarning: Private attribute access ('Viewer._canvas_size') in this context (e.g. inside a plugin widget or dock widget) is deprecated and will be unavailable in version 0.5.0\n",
      "  viewer.camera.zoom = np.min(viewer._canvas_size) / np.max(size)\n",
      "C:\\Users\\kmkedz\\.conda\\envs\\napari-tests\\lib\\site-packages\\affinder\\affinder.py:28: FutureWarning: Private attribute access ('Viewer._canvas_size') in this context (e.g. inside a plugin widget or dock widget) is deprecated and will be unavailable in version 0.5.0\n",
      "  viewer.camera.zoom = np.min(viewer._canvas_size) / np.max(size)\n"
     ]
    }
   ],
   "source": [
    "viewer = napari.Viewer()\n",
    "l0 = viewer.add_image(labels_im[0], colormap='bop blue', blending='additive',name='ref')\n",
    "l1 = viewer.add_image(labels_im[1], colormap='bop purple', blending='additive',name='moving')\n",
    "\n",
    "qtwidget, widget = viewer.window.add_plugin_dock_widget(\n",
    "        'affinder', 'Start affinder'\n",
    "        )\n",
    "widget.reference.bind(l0)\n",
    "widget.moving.bind(l1)\n",
    "widget()"
   ]
  },
  {
   "cell_type": "markdown",
   "metadata": {},
   "source": [
    "## Collect transformation matrix"
   ]
  },
  {
   "cell_type": "code",
   "execution_count": 10,
   "metadata": {},
   "outputs": [],
   "source": [
    "mat = np.asarray(viewer.layers['moving'].affine)"
   ]
  },
  {
   "cell_type": "markdown",
   "metadata": {},
   "source": [
    "## Visualize transformation from the collected matrix (optional)"
   ]
  },
  {
   "cell_type": "code",
   "execution_count": 11,
   "metadata": {},
   "outputs": [
    {
     "data": {
      "text/plain": [
       "<Image layer 'tfd_ndi' at 0x156243a1460>"
      ]
     },
     "execution_count": 11,
     "metadata": {},
     "output_type": "execute_result"
    }
   ],
   "source": [
    "# optionally - test matrix\n",
    "tfd_ndi = ndi.affine_transform(labels_im[1], np.linalg.inv(mat))\n",
    "viewer.add_image(tfd_ndi, colormap='bop orange', blending='additive')"
   ]
  },
  {
   "cell_type": "markdown",
   "metadata": {},
   "source": [
    "## Save transformation matrix"
   ]
  },
  {
   "cell_type": "code",
   "execution_count": 12,
   "metadata": {},
   "outputs": [],
   "source": [
    "def matrix_rc2xy(affine_matrix):\n",
    "    swapped_cols = affine_matrix[:, [1, 0, 2]]\n",
    "    swapped_rows = swapped_cols[[1, 0, 2], :]\n",
    "    return swapped_rows\n",
    "\n",
    "\n",
    "tmat[int(alignRound),:,:] = np.linalg.inv(matrix_rc2xy(mat))\n",
    "tmat.dump(tmat_path)"
   ]
  }
 ],
 "metadata": {
  "interpreter": {
   "hash": "60f8c998a4002f338f112ec7ee84bce9751194547efeb38279b7c2dc8c19ce0a"
  },
  "kernelspec": {
   "display_name": "Python 3 (ipykernel)",
   "language": "python",
   "name": "python3"
  },
  "language_info": {
   "codemirror_mode": {
    "name": "ipython",
    "version": 3
   },
   "file_extension": ".py",
   "mimetype": "text/x-python",
   "name": "python",
   "nbconvert_exporter": "python",
   "pygments_lexer": "ipython3",
   "version": "3.9.18"
  }
 },
 "nbformat": 4,
 "nbformat_minor": 2
}
